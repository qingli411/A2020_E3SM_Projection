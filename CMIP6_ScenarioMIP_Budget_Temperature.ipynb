{
 "cells": [
  {
   "cell_type": "code",
   "execution_count": 41,
   "metadata": {},
   "outputs": [],
   "source": [
    "import os\n",
    "import xarray as xr\n",
    "import numpy as np\n",
    "import pandas as pd\n",
    "import matplotlib.pyplot as plt\n",
    "%matplotlib inline"
   ]
  },
  {
   "cell_type": "code",
   "execution_count": 2,
   "metadata": {},
   "outputs": [],
   "source": [
    "dataroot = os.environ['HOME']+'/data/cmip6/e3sm/processed'\n",
    "casename = '20190807.DECKv1b_P1_SSP5-8.5.ne30_oEC.cori-knl'\n",
    "datafile = dataroot+'/'+casename+'/mpaso.hist.am.avgLayer.timeSeriesStatsMonthly.2015-2100.nc'\n"
   ]
  },
  {
   "cell_type": "code",
   "execution_count": 23,
   "metadata": {},
   "outputs": [],
   "source": [
    "varprefix = 'timeMonthly_avg_avgValueWithinOceanLayerRegion_avgLayer'\n",
    "var = 'Temperature'\n",
    "varsuffix = ['HorAdv', 'VertAdv', 'VertMix', 'SfcFlux', 'SW', 'NL']"
   ]
  },
  {
   "cell_type": "code",
   "execution_count": 5,
   "metadata": {},
   "outputs": [],
   "source": [
    "# load data\n",
    "data = xr.open_dataset(datafile).load()"
   ]
  },
  {
   "cell_type": "code",
   "execution_count": 39,
   "metadata": {},
   "outputs": [
    {
     "name": "stdout",
     "output_type": "stream",
     "text": [
      "<xarray.Variable (Time: 1032, nOceanRegionsTmp: 7, nVertLevels: 60)>\n",
      "array([[[4.94776728e+00, 1.48433183e+01, 2.47388862e+01, ...,\n",
      "         4.27608426e+03, 4.40099911e+03, 4.40099911e+03],\n",
      "        [5.00074687e+00, 1.50022411e+01, 2.50037356e+01, ...,\n",
      "         4.74194395e+03, 4.95280650e+03, 5.15204282e+03],\n",
      "        [4.99515741e+00, 1.49854572e+01, 2.49757420e+01, ...,\n",
      "         4.70446972e+03, 4.89542692e+03, 5.05016272e+03],\n",
      "        ...,\n",
      "        [5.00004153e+00, 1.50001377e+01, 2.50002469e+01, ...,\n",
      "         4.80758824e+03, 5.03152377e+03, 5.22778690e+03],\n",
      "        [4.99980512e+00, 1.49994294e+01, 2.49990676e+01, ...,\n",
      "         4.74942133e+03, 4.95580139e+03, 5.13228728e+03],\n",
      "        [4.99576866e+00, 1.49873073e+01, 2.49788472e+01, ...,\n",
      "         4.74689514e+03, 4.96100743e+03, 5.16243665e+03]],\n",
      "\n",
      "       [[4.94203713e+00, 1.48261268e+01, 2.47102321e+01, ...,\n",
      "         4.27581992e+03, 4.40073024e+03, 4.40073024e+03],\n",
      "        [5.00069445e+00, 1.50020835e+01, 2.50034724e+01, ...,\n",
      "         4.74194426e+03, 4.95280670e+03, 5.15204295e+03],\n",
      "        [4.99551807e+00, 1.49865448e+01, 2.49775620e+01, ...,\n",
      "         4.70448450e+03, 4.89543986e+03, 5.05017404e+03],\n",
      "        ...,\n",
      "        [5.00001222e+00, 1.50000466e+01, 2.50000910e+01, ...,\n",
      "         4.80755985e+03, 5.03149388e+03, 5.22775571e+03],\n",
      "        [4.99980150e+00, 1.49994140e+01, 2.49990361e+01, ...,\n",
      "         4.74941306e+03, 4.95579183e+03, 5.13227650e+03],\n",
      "        [4.99541692e+00, 1.49862522e+01, 2.49770888e+01, ...,\n",
      "         4.74688336e+03, 4.96099502e+03, 5.16242360e+03]],\n",
      "\n",
      "       [[4.93331536e+00, 1.47999586e+01, 2.46666148e+01, ...,\n",
      "         4.27542991e+03, 4.40033671e+03, 4.40033671e+03],\n",
      "        [5.00051690e+00, 1.50015508e+01, 2.50025845e+01, ...,\n",
      "         4.74194121e+03, 4.95280360e+03, 5.15203983e+03],\n",
      "        [4.99573451e+00, 1.49871967e+01, 2.49786520e+01, ...,\n",
      "         4.70449685e+03, 4.89545336e+03, 5.05018860e+03],\n",
      "        ...,\n",
      "        [5.00002055e+00, 1.50000733e+01, 2.50001376e+01, ...,\n",
      "         4.80756756e+03, 5.03150190e+03, 5.22776396e+03],\n",
      "        [4.99979410e+00, 1.49993961e+01, 2.49990118e+01, ...,\n",
      "         4.74941060e+03, 4.95578970e+03, 5.13227466e+03],\n",
      "        [4.99485149e+00, 1.49845561e+01, 2.49742622e+01, ...,\n",
      "         4.74687549e+03, 4.96098714e+03, 5.16241560e+03]],\n",
      "\n",
      "       ...,\n",
      "\n",
      "       [[4.98394428e+00, 1.49518263e+01, 2.49197013e+01, ...,\n",
      "         4.27800846e+03, 4.40295558e+03, 4.40295558e+03],\n",
      "        [4.99955550e+00, 1.49986651e+01, 2.49977730e+01, ...,\n",
      "         4.74179040e+03, 4.95264874e+03, 5.15188123e+03],\n",
      "        [4.99413114e+00, 1.49823863e+01, 2.49706343e+01, ...,\n",
      "         4.70407638e+03, 4.89501995e+03, 5.04974487e+03],\n",
      "        ...,\n",
      "        [4.99985283e+00, 1.49995750e+01, 2.49993137e+01, ...,\n",
      "         4.80743090e+03, 5.03136004e+03, 5.22761783e+03],\n",
      "        [4.99957497e+00, 1.49987390e+01, 2.49979172e+01, ...,\n",
      "         4.74920722e+03, 4.95558060e+03, 5.13206111e+03],\n",
      "        [4.99696591e+00, 1.49908980e+01, 2.49848302e+01, ...,\n",
      "         4.74680289e+03, 4.96091286e+03, 5.16234080e+03]],\n",
      "\n",
      "       [[4.97817761e+00, 1.49345289e+01, 2.48908757e+01, ...,\n",
      "         4.27774798e+03, 4.40268720e+03, 4.40268720e+03],\n",
      "        [5.00008239e+00, 1.50002437e+01, 2.50004014e+01, ...,\n",
      "         4.74180655e+03, 4.95266510e+03, 5.15189772e+03],\n",
      "        [4.99438109e+00, 1.49831321e+01, 2.49718718e+01, ...,\n",
      "         4.70414564e+03, 4.89509149e+03, 5.04981835e+03],\n",
      "        ...,\n",
      "        [4.99986099e+00, 1.49995962e+01, 2.49993447e+01, ...,\n",
      "         4.80743160e+03, 5.03136047e+03, 5.22761805e+03],\n",
      "        [4.99957376e+00, 1.49987327e+01, 2.49979032e+01, ...,\n",
      "         4.74920312e+03, 4.95557607e+03, 5.13205621e+03],\n",
      "        [4.99686926e+00, 1.49906078e+01, 2.49843463e+01, ...,\n",
      "         4.74680927e+03, 4.96091913e+03, 5.16234680e+03]],\n",
      "\n",
      "       [[4.97897549e+00, 1.49369228e+01, 2.48948659e+01, ...,\n",
      "         4.27774776e+03, 4.40268976e+03, 4.40268976e+03],\n",
      "        [5.00024055e+00, 1.50007208e+01, 2.50012000e+01, ...,\n",
      "         4.74180414e+03, 4.95266233e+03, 5.15189461e+03],\n",
      "        [4.99489828e+00, 1.49846833e+01, 2.49744564e+01, ...,\n",
      "         4.70417023e+03, 4.89511491e+03, 5.04984062e+03],\n",
      "        ...,\n",
      "        [4.99986971e+00, 1.49996248e+01, 2.49993957e+01, ...,\n",
      "         4.80744036e+03, 5.03136947e+03, 5.22762719e+03],\n",
      "        [4.99960510e+00, 1.49988295e+01, 2.49980680e+01, ...,\n",
      "         4.74923428e+03, 4.95560772e+03, 5.13208820e+03],\n",
      "        [4.99691778e+00, 1.49907542e+01, 2.49845912e+01, ...,\n",
      "         4.74681293e+03, 4.96092253e+03, 5.16234989e+03]]])\n",
      "Attributes:\n",
      "    long_name:  Average depth within region layer\n"
     ]
    }
   ],
   "source": [
    "# get depth\n",
    "lthickness = data.variables[varprefix+'Thickness']\n",
    "# print(lthickness)\n",
    "depth = lthickness.cumsum(dim='nVertLevels')-0.5*lthickness\n",
    "depth.attrs['long_name'] = 'Average depth within region layer'\n",
    "print(depth)"
   ]
  },
  {
   "cell_type": "code",
   "execution_count": 50,
   "metadata": {},
   "outputs": [
    {
     "name": "stdout",
     "output_type": "stream",
     "text": [
      "<xarray.Variable (Time: 1032)>\n",
      "array([b'2015-02-01_00:00:00                                             ',\n",
      "       b'2015-03-01_00:00:00                                             ',\n",
      "       b'2015-04-01_00:00:00                                             ',\n",
      "       ...,\n",
      "       b'2100-11-01_00:00:00                                             ',\n",
      "       b'2100-12-01_00:00:00                                             ',\n",
      "       b'2101-01-01_00:00:00                                             '],\n",
      "      dtype='|S64')\n",
      "Attributes:\n",
      "    units:    unitless\n",
      "DatetimeIndex(['2015-01-01', '2015-02-01', '2015-03-01', '2015-04-01',\n",
      "               '2015-05-01', '2015-06-01', '2015-07-01', '2015-08-01',\n",
      "               '2015-09-01', '2015-10-01',\n",
      "               ...\n",
      "               '2100-03-01', '2100-04-01', '2100-05-01', '2100-06-01',\n",
      "               '2100-07-01', '2100-08-01', '2100-09-01', '2100-10-01',\n",
      "               '2100-11-01', '2100-12-01'],\n",
      "              dtype='datetime64[ns]', length=1032, freq=None)\n"
     ]
    }
   ],
   "source": [
    "# get time\n",
    "xtime_str0 = data.variables['xtime_startMonthly']\n",
    "xtime_str1 = data.variables['xtime_endMonthly']\n",
    "print(xtime_str1)\n",
    "pdtime0 = pd.to_datetime([s.decode('utf-8').strip()[:10] for s in xtime_str0.data[:]])\n",
    "print(pdtime0)"
   ]
  },
  {
   "cell_type": "code",
   "execution_count": 48,
   "metadata": {},
   "outputs": [
    {
     "data": {
      "text/plain": [
       "b'2015-02-01_00:50:00                                             '"
      ]
     },
     "execution_count": 48,
     "metadata": {},
     "output_type": "execute_result"
    }
   ],
   "source": [
    "xtime_str0.data[1]"
   ]
  },
  {
   "cell_type": "code",
   "execution_count": 34,
   "metadata": {},
   "outputs": [
    {
     "data": {
      "text/plain": [
       "(-300, 0)"
      ]
     },
     "execution_count": 34,
     "metadata": {},
     "output_type": "execute_result"
    },
    {
     "data": {
      "image/png": "[encoded data removed]",
      "text/plain": [
       "<Figure size 432x288 with 1 Axes>"
      ]
     },
     "metadata": {
      "needs_background": "light"
     },
     "output_type": "display_data"
    }
   ],
   "source": [
    "tidx = 105\n",
    "varname = varprefix+var\n",
    "v = data.variables[varname][tidx,regionid,:]\n",
    "z = -depth[tidx,regionid,:]\n",
    "plt.plot(v.squeeze(), z)\n",
    "plt.ylim([-300, 0])"
   ]
  },
  {
   "cell_type": "code",
   "execution_count": 19,
   "metadata": {},
   "outputs": [
    {
     "data": {
      "text/plain": [
       "(0, 500)"
      ]
     },
     "execution_count": 19,
     "metadata": {},
     "output_type": "execute_result"
    },
    {
     "data": {
      "image/png": "[encoded data removed]",
      "text/plain": [
       "<Figure size 432x288 with 1 Axes>"
      ]
     },
     "metadata": {
      "needs_background": "light"
     },
     "output_type": "display_data"
    }
   ],
   "source": [
    "plt.plot(lthickness[0,5,:])\n",
    "plt.plot(depth[0,5,:])\n",
    "plt.ylim([0,500])"
   ]
  },
  {
   "cell_type": "code",
   "execution_count": 89,
   "metadata": {},
   "outputs": [],
   "source": [
    "# region (1: Arctic; 2: Equatorial; 3: Southern Ocean; 4: Nino3; 5: Nino4; 6: Nino3.4; 7: Gloabl)\n",
    "region = 6\n",
    "regionid = region - 1"
   ]
  },
  {
   "cell_type": "code",
   "execution_count": null,
   "metadata": {},
   "outputs": [],
   "source": []
  },
  {
   "cell_type": "code",
   "execution_count": 105,
   "metadata": {},
   "outputs": [
    {
     "data": {
      "text/plain": [
       "(-300, 0)"
      ]
     },
     "execution_count": 105,
     "metadata": {},
     "output_type": "execute_result"
    },
    {
     "data": {
      "image/png": "[encoded data removed]",
      "text/plain": [
       "<Figure size 432x288 with 1 Axes>"
      ]
     },
     "metadata": {
      "needs_background": "light"
     },
     "output_type": "display_data"
    }
   ],
   "source": [
    "tidx = 0\n",
    "varname = varprefix+var\n",
    "v = data.variables[varname][tidx,regionid,:]\n",
    "z = -depth[tidx,regionid,:]\n",
    "plt.plot(v.squeeze(), z)\n",
    "plt.ylim([-300, 0])"
   ]
  },
  {
   "cell_type": "code",
   "execution_count": 106,
   "metadata": {},
   "outputs": [],
   "source": [
    "# tidxs = 0\n",
    "# tidxe = 12*5-1\n",
    "# varname = varprefix+var+'HorAdv'\n",
    "# v = data.variables[varname][tidxs:tidxe,regionid,:].squeeze()\n",
    "# z = -depth[tidxs:tidxe,regionid,:]\n",
    "# t = pdtime0[tidxs:tidxe]\n",
    "# # print(v)\n",
    "# # print(z)\n",
    "# # print(t)\n",
    "# plt.contourf(v)\n",
    "# plt.colorbar()\n",
    "# # plt.ylim([-300, 0])\n",
    "# plt.xlim([0,30])"
   ]
  },
  {
   "cell_type": "code",
   "execution_count": 107,
   "metadata": {},
   "outputs": [
    {
     "data": {
      "text/plain": [
       "<matplotlib.legend.Legend at 0x12c245908>"
      ]
     },
     "execution_count": 107,
     "metadata": {},
     "output_type": "execute_result"
    },
    {
     "data": {
      "image/png": "[encoded data removed]",
      "text/plain": [
       "<Figure size 432x288 with 1 Axes>"
      ]
     },
     "metadata": {
      "needs_background": "light"
     },
     "output_type": "display_data"
    }
   ],
   "source": [
    "budget = np.zeros([len(varsuffix),z.size])\n",
    "for i, vs in enumerate(varsuffix):\n",
    "    varname = varprefix+var+vs\n",
    "    budget[i,:] = data.variables[varname][tidx,regionid,:].squeeze()\n",
    "    \n",
    "for i in np.arange(len(varsuffix)):\n",
    "    plt.plot(budget[i,:], z, label=varsuffix[i])\n",
    "tot = np.sum(budget, axis=0)\n",
    "plt.plot(tot, z, label='SUM')\n",
    "plt.ylim([-300, 0])\n",
    "# plt.xlim([-1e-6, 1e-6])\n",
    "plt.legend() "
   ]
  },
  {
   "cell_type": "code",
   "execution_count": null,
   "metadata": {},
   "outputs": [],
   "source": []
  }
 ],
 "metadata": {
  "kernelspec": {
   "display_name": "Python 3",
   "language": "python",
   "name": "python3"
  },
  "language_info": {
   "codemirror_mode": {
    "name": "ipython",
    "version": 3
   },
   "file_extension": ".py",
   "mimetype": "text/x-python",
   "name": "python",
   "nbconvert_exporter": "python",
   "pygments_lexer": "ipython3",
   "version": "3.7.1"
  }
 },
 "nbformat": 4,
 "nbformat_minor": 4
}
