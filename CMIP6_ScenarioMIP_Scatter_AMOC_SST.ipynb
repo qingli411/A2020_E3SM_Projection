{
 "cells": [
  {
   "cell_type": "code",
   "execution_count": 1,
   "metadata": {},
   "outputs": [],
   "source": [
    "import os\n",
    "import numpy as np\n",
    "import matplotlib.pyplot as plt\n",
    "from matplotlib import cm"
   ]
  },
  {
   "cell_type": "code",
   "execution_count": 2,
   "metadata": {},
   "outputs": [],
   "source": [
    "# figure root\n",
    "fig_root = os.environ['HOME']+'/work/E3SMv1_Future_Projection/figures'\n",
    "save_fig = True"
   ]
  },
  {
   "cell_type": "code",
   "execution_count": 3,
   "metadata": {},
   "outputs": [],
   "source": [
    "e3sm_amoc_data = np.load('e3sm_amoc26.npz')\n",
    "esgf_amoc_data = np.load('esgf_amoc26.npz')"
   ]
  },
  {
   "cell_type": "code",
   "execution_count": 4,
   "metadata": {},
   "outputs": [],
   "source": [
    "navg = 20\n",
    "e3sm_amoc = e3sm_amoc_data['data']\n",
    "e3sm_amoc_mean = e3sm_amoc[:,:navg].mean(axis=1)\n",
    "e3sm_amoc_diff = e3sm_amoc[:, -navg:].mean(axis=1) - e3sm_amoc[:,:navg].mean(axis=1)\n",
    "esgf_amoc = esgf_amoc_data['data']\n",
    "esgf_amoc_mean = esgf_amoc[:,:navg].mean(axis=1)\n",
    "esgf_amoc_diff = esgf_amoc[:, -navg:].mean(axis=1) - esgf_amoc[:,:navg].mean(axis=1)"
   ]
  },
  {
   "cell_type": "code",
   "execution_count": 5,
   "metadata": {},
   "outputs": [],
   "source": [
    "e3sm_sst_data = np.load('e3sm_sst.npz')\n",
    "esgf_sst_data = np.load('esgf_sst.npz')"
   ]
  },
  {
   "cell_type": "code",
   "execution_count": 6,
   "metadata": {},
   "outputs": [],
   "source": [
    "# navg = 20\n",
    "e3sm_sst = e3sm_sst_data['data']\n",
    "e3sm_sst_mean = e3sm_sst[:,:navg].mean(axis=1)\n",
    "e3sm_sst_diff = e3sm_sst[:, -navg:].mean(axis=1) - e3sm_sst[:,:navg].mean(axis=1)\n",
    "esgf_sst = esgf_sst_data['data']\n",
    "esgf_sst_mean = esgf_sst[:,:navg].mean(axis=1)\n",
    "esgf_sst_diff = esgf_sst[:, -navg:].mean(axis=1) - esgf_sst[:,:navg].mean(axis=1)"
   ]
  },
  {
   "cell_type": "code",
   "execution_count": 7,
   "metadata": {},
   "outputs": [
    {
     "data": {
      "text/plain": [
       "array(['CanESM5_r17i1p2f1', 'CanESM5_r25i1p2f1', 'CanESM5_r2i1p2f1',\n",
       "       'CanESM5-CanOE_r1i1p2f1', 'CanESM5-CanOE_r2i1p2f1',\n",
       "       'CESM2_r10i1p1f1', 'CESM2_r11i1p1f1', 'CESM2_r4i1p1f1',\n",
       "       'CESM2-WACCM_r1i1p1f1', 'CESM2-WACCM_r2i1p1f1',\n",
       "       'CESM2-WACCM_r3i1p1f1', 'CESM2-WACCM_r4i1p1f1',\n",
       "       'CESM2-WACCM_r5i1p1f1', 'HadGEM3-GC31-LL_r1i1p1f3',\n",
       "       'HadGEM3-GC31-LL_r2i1p1f3', 'HadGEM3-GC31-LL_r3i1p1f3',\n",
       "       'HadGEM3-GC31-LL_r4i1p1f3', 'HadGEM3-GC31-MM_r1i1p1f3',\n",
       "       'HadGEM3-GC31-MM_r2i1p1f3', 'HadGEM3-GC31-MM_r3i1p1f3',\n",
       "       'INM-CM4-8_r1i1p1f1', 'INM-CM5-0_r1i1p1f1',\n",
       "       'IPSL-CM6A-LR_r14i1p1f1', 'IPSL-CM6A-LR_r1i1p1f1',\n",
       "       'IPSL-CM6A-LR_r2i1p1f1', 'IPSL-CM6A-LR_r3i1p1f1',\n",
       "       'IPSL-CM6A-LR_r4i1p1f1', 'MPI-ESM1-2-HR_r1i1p1f1',\n",
       "       'MPI-ESM1-2-HR_r2i1p1f1', 'MPI-ESM1-2-LR_r10i1p1f1',\n",
       "       'MPI-ESM1-2-LR_r1i1p1f1', 'MPI-ESM1-2-LR_r2i1p1f1',\n",
       "       'MPI-ESM1-2-LR_r3i1p1f1', 'MPI-ESM1-2-LR_r4i1p1f1',\n",
       "       'MRI-ESM2-0_r1i1p1f1', 'MRI-ESM2-0_r1i2p1f1',\n",
       "       'NorESM2-LM_r1i1p1f1', 'NorESM2-MM_r1i1p1f1',\n",
       "       'UKESM1-0-LL_r1i1p1f2', 'UKESM1-0-LL_r2i1p1f2',\n",
       "       'UKESM1-0-LL_r3i1p1f2', 'UKESM1-0-LL_r4i1p1f2',\n",
       "       'UKESM1-0-LL_r8i1p1f2'], dtype='<U24')"
      ]
     },
     "execution_count": 7,
     "metadata": {},
     "output_type": "execute_result"
    }
   ],
   "source": [
    "idx_amoc = np.in1d(esgf_amoc_data['label'], esgf_sst_data['label'], assume_unique=True)\n",
    "esgf_amoc_data['label'][idx_amoc]"
   ]
  },
  {
   "cell_type": "code",
   "execution_count": 8,
   "metadata": {},
   "outputs": [
    {
     "data": {
      "text/plain": [
       "array(['CanESM5_r17i1p2f1', 'CanESM5_r25i1p2f1', 'CanESM5_r2i1p2f1',\n",
       "       'CanESM5-CanOE_r1i1p2f1', 'CanESM5-CanOE_r2i1p2f1',\n",
       "       'CESM2_r10i1p1f1', 'CESM2_r11i1p1f1', 'CESM2_r4i1p1f1',\n",
       "       'CESM2-WACCM_r1i1p1f1', 'CESM2-WACCM_r2i1p1f1',\n",
       "       'CESM2-WACCM_r3i1p1f1', 'CESM2-WACCM_r4i1p1f1',\n",
       "       'CESM2-WACCM_r5i1p1f1', 'HadGEM3-GC31-LL_r1i1p1f3',\n",
       "       'HadGEM3-GC31-LL_r2i1p1f3', 'HadGEM3-GC31-LL_r3i1p1f3',\n",
       "       'HadGEM3-GC31-LL_r4i1p1f3', 'HadGEM3-GC31-MM_r1i1p1f3',\n",
       "       'HadGEM3-GC31-MM_r2i1p1f3', 'HadGEM3-GC31-MM_r3i1p1f3',\n",
       "       'INM-CM4-8_r1i1p1f1', 'INM-CM5-0_r1i1p1f1',\n",
       "       'IPSL-CM6A-LR_r14i1p1f1', 'IPSL-CM6A-LR_r1i1p1f1',\n",
       "       'IPSL-CM6A-LR_r2i1p1f1', 'IPSL-CM6A-LR_r3i1p1f1',\n",
       "       'IPSL-CM6A-LR_r4i1p1f1', 'MPI-ESM1-2-HR_r1i1p1f1',\n",
       "       'MPI-ESM1-2-HR_r2i1p1f1', 'MPI-ESM1-2-LR_r10i1p1f1',\n",
       "       'MPI-ESM1-2-LR_r1i1p1f1', 'MPI-ESM1-2-LR_r2i1p1f1',\n",
       "       'MPI-ESM1-2-LR_r3i1p1f1', 'MPI-ESM1-2-LR_r4i1p1f1',\n",
       "       'MRI-ESM2-0_r1i1p1f1', 'MRI-ESM2-0_r1i2p1f1',\n",
       "       'NorESM2-LM_r1i1p1f1', 'NorESM2-MM_r1i1p1f1',\n",
       "       'UKESM1-0-LL_r1i1p1f2', 'UKESM1-0-LL_r2i1p1f2',\n",
       "       'UKESM1-0-LL_r3i1p1f2', 'UKESM1-0-LL_r4i1p1f2',\n",
       "       'UKESM1-0-LL_r8i1p1f2'], dtype='<U24')"
      ]
     },
     "execution_count": 8,
     "metadata": {},
     "output_type": "execute_result"
    }
   ],
   "source": [
    "idx_sst = np.in1d(esgf_sst_data['label'], esgf_amoc_data['label'], assume_unique=True)\n",
    "esgf_sst_data['label'][idx_sst]"
   ]
  },
  {
   "cell_type": "code",
   "execution_count": 9,
   "metadata": {},
   "outputs": [
    {
     "name": "stdout",
     "output_type": "stream",
     "text": [
      "['ACCESS-CM2', 'ACCESS-ESM1-5', 'BCC-CSM2-MR', 'CanESM5', 'CanESM5-CanOE', 'CESM2', 'CESM2-WACCM', 'CIESM', 'CNRM-CM6-1', 'CNRM-CM6-1-HR', 'CNRM-ESM2-1', 'FGOALS-f3-L', 'FGOALS-g3', 'GISS-E2-1-G', 'HadGEM3-GC31-LL', 'HadGEM3-GC31-MM', 'INM-CM4-8', 'INM-CM5-0', 'IPSL-CM6A-LR', 'MCM-UA-1-0', 'MIROC6', 'MPI-ESM1-2-HR', 'MPI-ESM1-2-LR', 'MRI-ESM2-0', 'NorESM2-LM', 'NorESM2-MM', 'UKESM1-0-LL']\n"
     ]
    }
   ],
   "source": [
    "# labels\n",
    "esgf_amoc_model_label = [s.split('_')[0] for s in esgf_amoc_data['label']]\n",
    "esgf_sst_model_label = [s.split('_')[0] for s in esgf_sst_data['label']]\n",
    "esgf_labels = sorted(list(np.union1d(esgf_amoc_model_label, esgf_sst_model_label)), key=str.casefold)\n",
    "print(esgf_labels)\n",
    "cmap = cm.get_cmap('rainbow')\n",
    "# cmap = cm.get_cmap('jet')\n",
    "ns = len(esgf_labels)\n",
    "ifrac = np.linspace(0,1,ns)\n",
    "esgf_colors = {}\n",
    "for i in np.arange(ns):\n",
    "    esgf_colors[esgf_labels[i]] = cmap(ifrac[i])\n",
    "ne3smcase = e3sm_amoc_data['label'].size\n",
    "e3sm_colors = {}\n",
    "for lb in e3sm_amoc_data['label']:\n",
    "    if 'GHG' in lb:\n",
    "        e3sm_colors[lb] = 'gray'\n",
    "    else:\n",
    "        e3sm_colors[lb] = 'black'\n",
    "np.savez('cmip6_colors.npz', esgf_colors=esgf_colors)"
   ]
  },
  {
   "cell_type": "code",
   "execution_count": 10,
   "metadata": {},
   "outputs": [
    {
     "name": "stdout",
     "output_type": "stream",
     "text": [
      "{'ACCESS-CM2': '^', 'ACCESS-ESM1-5': 'v', 'BCC-CSM2-MR': '<', 'CanESM5': '>', 'CanESM5-CanOE': 'd', 'CESM2': 's', 'CESM2-WACCM': '^', 'CIESM': 'v', 'CNRM-CM6-1': '<', 'CNRM-CM6-1-HR': '>', 'CNRM-ESM2-1': 'd', 'FGOALS-f3-L': 's', 'FGOALS-g3': '^', 'GISS-E2-1-G': 'v', 'HadGEM3-GC31-LL': '<', 'HadGEM3-GC31-MM': '>', 'INM-CM4-8': 'd', 'INM-CM5-0': 's', 'IPSL-CM6A-LR': '^', 'MCM-UA-1-0': 'v', 'MIROC6': '<', 'MPI-ESM1-2-HR': '>', 'MPI-ESM1-2-LR': 'd', 'MRI-ESM2-0': 's', 'NorESM2-LM': '^', 'NorESM2-MM': 'v', 'UKESM1-0-LL': '<'}\n"
     ]
    }
   ],
   "source": [
    "markers = ['^', 'v', '<', '>', 'd', 's']\n",
    "nmarker = len(markers)\n",
    "esgf_markers = {}\n",
    "for i, lb in enumerate(esgf_labels):\n",
    "    j = i%nmarker\n",
    "    esgf_markers[lb] = markers[j]\n",
    "print(esgf_markers)\n",
    "    \n",
    "    "
   ]
  },
  {
   "cell_type": "code",
   "execution_count": 11,
   "metadata": {},
   "outputs": [
    {
     "data": {
      "image/png": "[encoded data removed]",
      "text/plain": [
       "<Figure size 720x360 with 4 Axes>"
      ]
     },
     "metadata": {
      "needs_background": "light"
     },
     "output_type": "display_data"
    }
   ],
   "source": [
    "def set_aspect_pb(ax, ratio):\n",
    "    xleft, xright = ax.get_xlim()\n",
    "    ybottom, ytop = ax.get_ylim()\n",
    "    ax.set_aspect(abs((xright-xleft)/(ybottom-ytop))*ratio)\n",
    "    \n",
    "def add_legend(axis, xloc, yloc, color, text, marker='o'):\n",
    "    axis.scatter(xloc, yloc, s=16, color=color, marker=marker, transform=axis.transAxes)\n",
    "    axis.text(xloc+0.015, yloc, text, fontsize=9,\n",
    "              transform=axis.transAxes, color='k',\n",
    "              va='center')\n",
    "    \n",
    "fig, axarr = plt.subplots(1,3)\n",
    "fig.set_size_inches([10,5])\n",
    "for i, lb in enumerate(esgf_amoc_data['label']):\n",
    "    mlb = lb.split('_')[0]\n",
    "    axarr[0].plot(esgf_amoc_mean[i], esgf_amoc_diff[i], esgf_markers[mlb],\n",
    "             color=esgf_colors[mlb], label=lb)\n",
    "for i, lb in enumerate(e3sm_amoc_data['label']):\n",
    "    axarr[0].plot(e3sm_amoc_mean[i], e3sm_amoc_diff[i], 'o',\n",
    "             color=e3sm_colors[lb], label=lb)\n",
    "axarr[0].set_xlabel('AMOC (Sv)')\n",
    "axarr[0].set_ylabel('$\\Delta$ AMOC (Sv)')\n",
    "set_aspect_pb(axarr[0], 1.0)\n",
    "\n",
    "for i, lb in enumerate(esgf_sst_data['label']):\n",
    "    mlb = lb.split('_')[0]\n",
    "    axarr[1].plot(esgf_sst_mean[i], esgf_sst_diff[i], esgf_markers[mlb],\n",
    "             color=esgf_colors[mlb], label=lb)\n",
    "for i, lb in enumerate(e3sm_sst_data['label']):\n",
    "    axarr[1].plot(e3sm_sst_mean[i], e3sm_sst_diff[i], 'o',\n",
    "             color=e3sm_colors[lb], label=lb)\n",
    "axarr[1].set_xlabel('SST ($^\\circ$C)')\n",
    "axarr[1].set_ylabel('$\\Delta$ SST ($^\\circ$C)')\n",
    "set_aspect_pb(axarr[1], 1.0)\n",
    "\n",
    "for i, lb in enumerate(esgf_sst_data['label'][idx_sst]):\n",
    "    mlb = lb.split('_')[0]\n",
    "    axarr[2].plot(esgf_sst_diff[idx_sst][i], esgf_amoc_diff[idx_amoc][i], esgf_markers[mlb],\n",
    "             color=esgf_colors[mlb], label=lb)\n",
    "for i, lb in enumerate(e3sm_sst_data['label']):\n",
    "    axarr[2].plot(e3sm_sst_diff[i], e3sm_amoc_diff[i], 'o',\n",
    "             color=e3sm_colors[lb], label=lb)\n",
    "axarr[2].set_xlabel('$\\Delta$ SST ($^\\circ$C)')\n",
    "axarr[2].set_ylabel('$\\Delta$ AMOC (Sv)')\n",
    "set_aspect_pb(axarr[2], 1.0)\n",
    "\n",
    "plt.tight_layout()\n",
    "\n",
    "# plot legend\n",
    "# x- and y-labels\n",
    "plt.subplots_adjust(left=0.1, right=0.95, bottom=0.2, top=0.96, wspace=0.3, hspace=0.1)\n",
    "ax = fig.add_axes([0.1,0.05,0.8,0.18])\n",
    "ax.spines['bottom'].set_color('white')\n",
    "ax.spines['top'].set_color('white') \n",
    "ax.spines['right'].set_color('white')\n",
    "ax.spines['left'].set_color('white')\n",
    "ax.axes.get_yaxis().set_visible(False)\n",
    "ax.axes.get_xaxis().set_visible(False)\n",
    "legend_labels = esgf_labels + ['E3SM', 'E3SM GHG']\n",
    "legend_colors = esgf_colors\n",
    "legend_colors['E3SM'] = 'black'\n",
    "legend_colors['E3SM GHG'] = 'gray'\n",
    "\n",
    "ncol = 5\n",
    "nlg = len(legend_labels)\n",
    "nrow = int(np.ceil(nlg/ncol))\n",
    "dx = 1/ncol\n",
    "dy = 1/nrow\n",
    "for i, lb in enumerate(legend_labels):\n",
    "    icol = i//nrow\n",
    "    irow = i%nrow\n",
    "    x = dx*icol + 0.05\n",
    "    y = 0.95-dy*irow\n",
    "#     print('{}, {}: {}, {}'.format(icol, irow, x, y))\n",
    "    if lb in ['E3SM', 'E3SM GHG']:\n",
    "        marker = 'o'\n",
    "    else:\n",
    "        marker = esgf_markers[lb]\n",
    "    add_legend(ax, x, y, legend_colors[lb], legend_labels[i], marker=marker)\n",
    "\n",
    "# save figure\n",
    "if save_fig:\n",
    "    figname = fig_root+'/CMIP6_ScenarioMIP_Scatter_AMOC_SST.png'\n",
    "    fig.savefig(figname, dpi = 300)"
   ]
  },
  {
   "cell_type": "code",
   "execution_count": null,
   "metadata": {},
   "outputs": [],
   "source": []
  }
 ],
 "metadata": {
  "kernelspec": {
   "display_name": "Python 3",
   "language": "python",
   "name": "python3"
  },
  "language_info": {
   "codemirror_mode": {
    "name": "ipython",
    "version": 3
   },
   "file_extension": ".py",
   "mimetype": "text/x-python",
   "name": "python",
   "nbconvert_exporter": "python",
   "pygments_lexer": "ipython3",
   "version": "3.7.6"
  }
 },
 "nbformat": 4,
 "nbformat_minor": 4
}
